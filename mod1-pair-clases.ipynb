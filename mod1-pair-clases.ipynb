{
 "cells": [
  {
   "cell_type": "markdown",
   "metadata": {},
   "source": [
    "## En este ejercicio de pair programming, vamos a crear una clase para gestionar la información de los empleados de nuestra empresa. Siguiendo las indicaciones del jefe, necesitamos organizar los datos de cada empleado de manera más estructurada.\n",
    "\n",
    "- La clase Empleados permite gestionar información relacionada con los empleados de una empresa, con las siguientes características:\n",
    "\n",
    "        1. Debes crear una clase llamada \"Empleados\" que tenga los siguientes atributos: nombre, apellidos, edad, posicion, año , vacaciones(cantidad de días de vacaciones que le quedan al empleado) y herramientas.\n",
    "\n",
    "        2. El constructor __init__ debe recibir estos atributos como parámetros y asignarlos a los respectivos atributos de la clase.\n",
    "\n",
    "        3. Los atributos representan la información personal y profesional de un empleado, como su nombre completo, edad, posición en la empresa, año de ingreso, días de vacaciones disponibles y una lista de herramientas que el empleado sabe utilizar.\n",
    "\n",
    "- Los métodos que debe recibir esta clase son:\n",
    "\n",
    "        1 - Método descripcion: Proporciona una descripción del empleado, incluyendo su nombre, posición en la empresa, y la cantidad de días de vacaciones que le quedan para el año actual. Los pasos para resolver el ejercicio del método descripcion son:\n",
    "\n",
    "- Utilizar F-Strings: Utiliza f-strings para construir la descripción del empleado de manera legible y eficiente.\n",
    "\n",
    "- Especificar los Atributos a Incluir: Determina cuáles de los atributos del empleado se deben incluir en la descripción. Los atributos necesarios son nombre, posicion, año, y vacaciones.\n",
    "\n",
    "- Concatenar los Atributos: Usar f-strings para concatenar los atributos seleccionados y crear una descripción coherente.\n",
    "\n",
    "        2 - Método cambiando_posicion: Verifica las herramientas que el empleado tiene en su lista y devuelve un mensaje específico basado en las herramientas. Puede elogiar al empleado si tiene \"Python\" en su lista o sugerirle que deje de usar \"Excel\" y aprenda Python. Los pasos para resolver este ejercicio son:\n",
    "\n",
    "- Iterar a través de las Herramientas: La función debe recorrer la lista de herramientas (self.herramientas) del empleado.\n",
    "\n",
    "- Evaluar Cada Herramienta: Para cada herramienta en la lista, verifica si es igual a \"Python\" o \"Excel\" (en minúsculas).\n",
    "\n",
    "        3  - Método calcular_antiguedad: Calcula la antigüedad del empleado en años y meses desde el año de ingreso hasta la fecha actual.\n",
    "\n",
    "- Calcular la Antigüedad en Años y Meses: Utiliza el módulo datetime de Python para obtener el año actual y el mes actual.\n",
    "\n",
    "- Generar el Mensaje de Antigüedad: Usa los valores calculados para años y meses de antigüedad para generar un mensaje descriptivo. Por ejemplo, \"Juan lleva 5 años y 3 meses en la empresa\".\n",
    "\n",
    "        4 - Método solicitar_aumento_vacaciones: Permite al empleado solicitar un aumento en la cantidad de días de vacaciones. Si la solicitud es válida (es decir, se solicitan días positivos), actualiza los días de vacaciones del empleado y devuelve un mensaje de confirmación. Recibirá un parámetro dias_solicitados, que corresponderá con el número de días de vacaciones que quiere solicitar.\n",
    "\n",
    "- Validar los Días Solicitados: Utiliza una estructura de control para verificar si la cantidad de días solicitados (dias_solicitados) es mayor que cero. Esto garantiza que solo se procesen solicitudes de aumento válidas.\n",
    "\n",
    "- Actualizar los Días de Vacaciones: Si la solicitud es válida, aumenta la cantidad de días de vacaciones del empleado (self.vacaciones) sumando la cantidad de días solicitados.\n",
    "\n",
    "- Generar un Mensaje de Confirmación: Crea un mensaje informativo que confirme la aprobación de la solicitud y muestre la cantidad actualizada de días de vacaciones del empleado.\n",
    "\n",
    "- Manejar Solicitudes No Válidas: Si la solicitud no es válida (es decir, dias_solicitados es menor o igual a cero), generar un mensaje de error que indique que la solicitud debe ser un número positivo.\n",
    "\n",
    "        5 - Método registrar_herramienta: Permite al empleado registrar una nueva herramienta en su lista de habilidades. La herramienta se registra si no está registrada previamente en la lista de herramientas del empleado. Recibirá un parámetro que será la nueva herramienta.\n",
    "\n",
    "- Validar la Nueva Herramienta: Utiliza una estructura de control para verificar si la nueva herramienta no está en la lista de herramientas existentes.\n",
    "\n",
    "- Agregar la Nueva Herramienta: Si la nueva herramienta no está en la lista existente, agregarla a la lista.\n",
    "\n",
    "- Generar un Mensaje de Confirmación: Crea un mensaje informativo que confirme el registro exitoso de la nueva herramienta y muestre el nombre de la herramienta registrada.\n",
    "\n",
    "- Manejar Herramientas Duplicadas: Si la nueva herramienta ya existe en la lista, genera un mensaje que indique que la herramienta ya ha sido registrada previamente.\n",
    "\n",
    "        6 - Método cambiar_posicion: Permite al empleado cambiar su posición y salario en la empresa. Actualiza la posición y el salario y devuelve un mensaje de felicitación. Recibirá dos parámetros, la nueva posición y el nuevo salario.\n",
    "\n",
    "- Actualizar la Posición y el Salario: Utiliza los parámetros nueva_posicion y nuevo_salario para actualizar la posición y el salario del empleado.\n",
    "\n",
    "- Generar un Mensaje de Confirmación: Crea un mensaje informativo que confirme el cambio de posición y salario del empleado y muestre el nombre del empleado, la nueva posición y el nuevo salario.\n",
    "\n",
    "        7- Método tomar_vacaciones: Permite al empleado tomar días de vacaciones, solicitando la cantidad deseada y actualizando los días de vacaciones restantes. Verifica que se solicite al menos un día de vacaciones y que el empleado tenga suficientes días disponibles. No recibe ningún parámetro adicional.\n",
    "\n",
    "- Solicitar la Cantidad de Días de Vacaciones: Usar la función input para solicitar al usuario la cantidad de días de vacaciones que desea tomar.\n",
    "\n",
    "- Validar la Cantidad de Días: Comprueba que la cantidad de días solicitados sea mayor que cero. Si el usuario ingresa un valor no válido (cero o - negativo), muestra un mensaje de error y solicita nuevamente la cantidad de días hasta que sea válida.\n",
    "\n",
    "- Verificar Disponibilidad de Días de Vacaciones: Comprueba si la cantidad de días solicitados es menor o igual a la cantidad de días de vacaciones disponibles para el empleado.\n",
    "\n",
    "- Actualizar Días de Vacaciones: Si hay suficientes días de vacaciones disponibles, modifica el código para que se modifiquen los días de vacaciones que le quedan. Si no hay suficientes días disponibles, mostrar un mensaje de error.\n",
    "\n",
    "- Generar un Mensaje de Confirmación o Error: Dependiendo de si la solicitud se procesó con éxito o no, genera un mensaje que informe al empleado sobre el resultado de su solicitud.\n",
    "\n",
    "        8- Método solicitar_aumento_salario: Permite al empleado solicitar un aumento de salario en porcentaje y calcula el nuevo salario. Verifica que el aumento sea un valor positivo o igual a cero. Este método no recibe ningún parámetro.\n",
    "\n",
    "- Solicitar el Porcentaje de Aumento de Salario: Utiliza la función input para solicitar al usuario el porcentaje de aumento de salario que desea. Asegurate de que el valor ingresado sea un número decimal.\n",
    "\n",
    "- Validar el Porcentaje de Aumento: Utiliza un bucle while para garantizar que el porcentaje de aumento sea mayor o igual a cero. Si el usuario ingresa un valor no válido (negativo), muestra un mensaje de error y solicita nuevamente el porcentaje hasta que sea válido.\n",
    "\n",
    "- Calcular el Nuevo Salario: Calcula el nuevo salario.\n",
    "\n",
    "- Generar un Mensaje de Confirmación: Crea un mensaje que informe al empleado sobre el resultado de su solicitud. Incluye el nuevo salario calculado en el mensaje.\n",
    "\n",
    "- Manejar Errores de Entrada: Utiliza un bloque try...except para manejar posibles errores de entrada, como cuando el usuario ingresa un valor que no se puede convertir a un número decimal.\n",
    "\n",
    "        9 - Método realizar_evaluacion: Permite al empleado recibir una calificación de desempeño, con opciones como \"Excelente\", \"Bueno\", \"Regular\" o \"Malo\". Verifica que la calificación ingresada sea válida. Este método no recibe ningún parámetro.\n",
    "\n",
    "- Solicitar la Calificación del Desempeño: Utiliza la función input para solicitar al usuario que califique su propio desempeño. Asegurate de que el valor ingresado sea una de las opciones válidas: \"excelente\", \"bueno\", \"regular\" o \"malo\".\n",
    "\n",
    "- Validar la Calificación: Utiliza un bucle while para garantizar que la calificación ingresada sea una de las opciones válidas. Si el usuario ingresa una calificación no válida, muestra un mensaje de error y solicita nuevamente la calificación hasta que sea válida.\n",
    "\n",
    "- Generar un Mensaje de Retroalimentación: Crear un mensaje que proporcione retroalimentación al empleado basada en la calificación ingresada.\n",
    "\n",
    "- Retornar el Mensaje Generado: La función debe incluir una instrucción return que devuelva el mensaje generado."
   ]
  },
  {
   "cell_type": "code",
   "execution_count": 22,
   "metadata": {},
   "outputs": [],
   "source": [
    "from datetime import date\n",
    "from datetime import datetime\n",
    "from dateutil import relativedelta\n",
    "\n",
    "class Empleados:\n",
    "    def __init__(self,nombre, apellidos, edad, posicion, anio, vacaciones, herramientas):\n",
    "        self.nombre = nombre\n",
    "        self.apellidos = apellidos\n",
    "        self.edad = edad\n",
    "        self.posicion = posicion\n",
    "        self.anio = anio  #cuando ingreso a trabajar\n",
    "        self.vacaciones = vacaciones\n",
    "        self.herramientas = herramientas\n",
    "        \n",
    "    def informacion(self):\n",
    "        return f\"El empleado es:{self.nombre},su posicion es:{self.posicion},entro en: {self.anio}, le dan {self.vacaciones} de vacaciones\"\n",
    "    \n",
    "    def cambiando_posicion(self):\n",
    "        for her in self.herramientas:    \n",
    "            if her == \"python\":\n",
    "                print (f\"Enhorabuena!\")\n",
    "            elif her == \"excel\":\n",
    "                print(f\"Eres un antiguo, aprende Python\") \n",
    "                \n",
    "    def calcular_antiguedad(self):\n",
    "        #fecha hoy\n",
    "        fecha_actual = datetime.now()\n",
    "\n",
    "        #convertir fecha a dt\n",
    "        dia = \"01-01-1990\"\n",
    "        fecha_dt = datetime.strptime(dia, \"%d-%m-%Y\")\n",
    "\n",
    "        #diferencia en dias\n",
    "        restar = fecha_actual - fecha_dt\n",
    "\n",
    "        #diferencia en años\n",
    "        dias_anio_promedio = 365\n",
    "        diferencia_anios = restar.days // int(dias_anio_promedio)\n",
    "        diferencia_dias_restantes = restar.days % int(dias_anio_promedio)\n",
    "\n",
    "        #calcular la diferencia en meses y dias restantes\n",
    "        meses = diferencia_dias_restantes // 30\n",
    "\n",
    "        return f\"Teresa lleva {diferencia_anios} años y {meses} meses en la empresa\"\n",
    "        \n",
    "    def solicitar_aumento_vacaciones(self, dias_solicitados):\n",
    "        dias_solicitados = int(input(\"Cuántos días quieres solicitar?\"))\n",
    "        if dias_solicitados > 0:\n",
    "            self.vacaciones += dias_solicitados\n",
    "            print(f\"Ahora tienes {self.vacaciones} días\")\n",
    "        else:\n",
    "            print(\"La solicitud debe ser un número positivo\")\n",
    "            \n",
    "    def registrar_herramienta(self):\n",
    "        nueva_herramienta = input(\"Ingrese la nueva herramienta: \")\n",
    "        if nueva_herramienta in self.herramientas:\n",
    "            print(\"La herramienta ya fue registrada previamente.\")\n",
    "        else:\n",
    "            self.herramientas.append(nueva_herramienta)\n",
    "            print(f\"Registro exitoso de la nueva herramienta! Herramienta registrada: {nueva_herramienta}\")\n",
    "            \n",
    "    def cambiar_posicion(self, nueva_posicion, nuevo_salario):\n",
    "        self.posicion = nueva_posicion\n",
    "        nuevo_salario = nuevo_salario \n",
    "        return f\"Enhorabuena! {self.nombre} te han ascendido a {self.posicion}, tu salario ahora es de {nuevo_salario} \"\n",
    "    \n",
    "    def tomar_vacaciones(self):\n",
    "        dias_vacaciones = int(input(\"Cuántos días de vacaciones desea tomarse?\"))\n",
    "        if dias_vacaciones <= 0:\n",
    "            return \"Error, debe ingresar un número válido\"\n",
    "        elif (dias_vacaciones <= self.vacaciones) and (self.vacaciones > 0):\n",
    "            self.vacaciones -= dias_vacaciones\n",
    "            return f\"Enhorabuena, vacaciones concedidas! Ahora te quedan {self.vacaciones} días de vacaciones\"\n",
    "        elif self.vacaciones < dias_vacaciones:   \n",
    "            return \"No hay suficientes días disponibles\"\n",
    "            \n",
    "    def solicitar_aumento_salario(self): \n",
    "        try:\n",
    "            solicitud = input(\"Porcentaje de aumento que desea, sin el %: \")\n",
    "        except solicitud != int:\n",
    "            return input(\"Ingrese un numero valido\")\n",
    "            \n",
    "        while solicitud >= 0:\n",
    "            calculo = solicitud / 100\n",
    "            calculo2 = 50000 * calculo\n",
    "            salario =  int(calculo2 + 50000)\n",
    "            return f\"La solicitud fue validada. Su nuevo salario es {salario}\"\n",
    "\n",
    "\n",
    "        \n",
    "        \n",
    "    def realizar_evaluacion(self):\n",
    "        desempeno = input(\"Califique su propio desempeño: excelente, bueno, regular o malo\")\n",
    "        validacion = [\"excelente\", \"bueno\", \"regular\",\"malo\"]\n",
    "    \n",
    "    \n",
    "    \n",
    "    \n",
    "persona = Empleados(\"Teresa\", \"Garcia\", 30, \"gerente\", 1990, 30, [\"python\", \"sql\", \"tableu\"])\n",
    "        "
   ]
  },
  {
   "cell_type": "code",
   "execution_count": 5,
   "metadata": {},
   "outputs": [
    {
     "name": "stdout",
     "output_type": "stream",
     "text": [
      "bueno\n"
     ]
    }
   ],
   "source": [
    "validacion = [\"excelente\", \"bueno\", \"regular\",\"malo\"]\n",
    "\n",
    "interruptor = 0\n",
    "           \n",
    "while interruptor != 1:\n",
    "    persona = input(\"Ingrese su desempeño\").lower()\n",
    "    while persona not in validacion:\n",
    "        if persona in validacion: \n",
    "            interruptor = 1\n",
    "            print(persona)\n",
    "            \n",
    "        elif persona not in validacion:\n",
    "            persona = input(\"Error la calificacion no es válida, ingrese una calificación válida: \").lower()\n",
    "            interruptor = 1\n",
    "            print(persona)"
   ]
  },
  {
   "cell_type": "code",
   "execution_count": 7,
   "metadata": {},
   "outputs": [
    {
     "data": {
      "text/plain": [
       "'El empleado es:Teresa,su posicion es:gerente,entro en: 1990, le dan 30 de vacaciones'"
      ]
     },
     "execution_count": 7,
     "metadata": {},
     "output_type": "execute_result"
    }
   ],
   "source": [
    "persona.informacion()"
   ]
  },
  {
   "cell_type": "code",
   "execution_count": 3,
   "metadata": {},
   "outputs": [
    {
     "name": "stdout",
     "output_type": "stream",
     "text": [
      "Enhorabuena!\n"
     ]
    }
   ],
   "source": [
    "persona.cambiando_posicion()"
   ]
  },
  {
   "cell_type": "code",
   "execution_count": 30,
   "metadata": {},
   "outputs": [
    {
     "data": {
      "text/plain": [
       "'Teresa lleva 34 años y 2 meses en la empresa'"
      ]
     },
     "execution_count": 30,
     "metadata": {},
     "output_type": "execute_result"
    }
   ],
   "source": [
    "persona.calcular_antiguedad()"
   ]
  },
  {
   "cell_type": "code",
   "execution_count": 140,
   "metadata": {},
   "outputs": [
    {
     "name": "stdout",
     "output_type": "stream",
     "text": [
      "Ahora tienes 50 días\n"
     ]
    }
   ],
   "source": [
    "persona.solicitar_aumento_vacaciones(dias_solicitados=\"\")"
   ]
  },
  {
   "cell_type": "code",
   "execution_count": 155,
   "metadata": {},
   "outputs": [
    {
     "name": "stdout",
     "output_type": "stream",
     "text": [
      "Registro exitoso de la nueva herramienta! Herramienta registrada: c++\n",
      "['python', 'sql', 'tableu', 'c++']\n"
     ]
    }
   ],
   "source": [
    "persona.registrar_herramienta()"
   ]
  },
  {
   "cell_type": "code",
   "execution_count": 5,
   "metadata": {},
   "outputs": [
    {
     "data": {
      "text/plain": [
       "'Enhorabuena! Teresa te han ascendido a socia, tu salario ahora es de 50000 '"
      ]
     },
     "execution_count": 5,
     "metadata": {},
     "output_type": "execute_result"
    }
   ],
   "source": [
    "persona.cambiar_posicion(\"socia\", 50000)"
   ]
  },
  {
   "cell_type": "code",
   "execution_count": 6,
   "metadata": {},
   "outputs": [
    {
     "data": {
      "text/plain": [
       "'Enhorabuena, vacaciones concedidas! Ahora te quedan 25 días de vacaciones'"
      ]
     },
     "execution_count": 6,
     "metadata": {},
     "output_type": "execute_result"
    }
   ],
   "source": [
    "persona.tomar_vacaciones()"
   ]
  },
  {
   "cell_type": "code",
   "execution_count": 23,
   "metadata": {},
   "outputs": [
    {
     "ename": "TypeError",
     "evalue": "'>=' not supported between instances of 'str' and 'int'",
     "output_type": "error",
     "traceback": [
      "\u001b[0;31m---------------------------------------------------------------------------\u001b[0m",
      "\u001b[0;31mTypeError\u001b[0m                                 Traceback (most recent call last)",
      "Cell \u001b[0;32mIn[23], line 1\u001b[0m\n\u001b[0;32m----> 1\u001b[0m \u001b[43mpersona\u001b[49m\u001b[38;5;241;43m.\u001b[39;49m\u001b[43msolicitar_aumento_salario\u001b[49m\u001b[43m(\u001b[49m\u001b[43m)\u001b[49m\n",
      "Cell \u001b[0;32mIn[22], line 83\u001b[0m, in \u001b[0;36mEmpleados.solicitar_aumento_salario\u001b[0;34m(self)\u001b[0m\n\u001b[1;32m     80\u001b[0m \u001b[38;5;28;01mexcept\u001b[39;00m solicitud \u001b[38;5;241m!=\u001b[39m \u001b[38;5;28mint\u001b[39m:\n\u001b[1;32m     81\u001b[0m     \u001b[38;5;28;01mreturn\u001b[39;00m \u001b[38;5;28minput\u001b[39m(\u001b[38;5;124m\"\u001b[39m\u001b[38;5;124mIngrese un numero valido\u001b[39m\u001b[38;5;124m\"\u001b[39m)\n\u001b[0;32m---> 83\u001b[0m \u001b[38;5;28;01mwhile\u001b[39;00m \u001b[43msolicitud\u001b[49m\u001b[43m \u001b[49m\u001b[38;5;241;43m>\u001b[39;49m\u001b[38;5;241;43m=\u001b[39;49m\u001b[43m \u001b[49m\u001b[38;5;241;43m0\u001b[39;49m:\n\u001b[1;32m     84\u001b[0m     calculo \u001b[38;5;241m=\u001b[39m solicitud \u001b[38;5;241m/\u001b[39m \u001b[38;5;241m100\u001b[39m\n\u001b[1;32m     85\u001b[0m     calculo2 \u001b[38;5;241m=\u001b[39m \u001b[38;5;241m50000\u001b[39m \u001b[38;5;241m*\u001b[39m calculo\n",
      "\u001b[0;31mTypeError\u001b[0m: '>=' not supported between instances of 'str' and 'int'"
     ]
    }
   ],
   "source": [
    "persona.solicitar_aumento_salario()"
   ]
  },
  {
   "cell_type": "markdown",
   "metadata": {},
   "source": [
    "###  En este ejercicio, se te pide crear una herencia de la clase creada en el ejercicio anterior. Esta clase hija se llama \"Gerente\" que hereda de la clase creada en el ejercicio anterior. Las instrucciones para crear esta clase son:\n",
    "\n",
    "    Crea la clase derivada \"Gerente\" que hereda de la clase \"Empleados\". Esta clase debe tener los siguientes atributos en su constructor además de los heredados de \"Empleados\":\n",
    "\n",
    "- departamento (str): El departamento al que está asignado el gerente.\n",
    "\n",
    "- empleados_a_cargo (list): Una lista que contiene los nombres de los empleados que están a cargo del gerente.\n",
    "\n",
    "\n",
    "    Implementa los siguientes métodos en la clase \"Gerente\":\n",
    "\n",
    "- asignar_tareas(tarea, empleado): Este método debe recibir el nombre de una tarea y el nombre de un empleado y debe devolver una cadena que indique que el gerente ha asignado la tarea a ese empleado.\n",
    "\n",
    "- revisar_desempeno_empleado(empleado): Este método debe recibir el nombre de un empleado y debe devolver una cadena que indique que el gerente está revisando el desempeño de ese empleado.\n",
    "\n",
    "- gestionar_empleados(accion, empleado): Este método permite al gerente realizar acciones de contratación o despido de empleados a cargo. Debe recibir una acción (\"contratar\" o \"despedir\") y el nombre de un empleado. Si la acción es \"contratar\", agrega al empleado a la lista de empleados a cargo y devuelve un mensaje indicando que el empleado ha sido contratado por el gerente. Si la acción es \"despedir\" y el empleado está en la lista de empleados a cargo, lo elimina y devuelve un mensaje de despido. Si la acción no es válida, devuelve un mensaje indicando que la acción no es válida."
   ]
  },
  {
   "cell_type": "code",
   "execution_count": 12,
   "metadata": {},
   "outputs": [],
   "source": [
    "class Gerente(Empleados):\n",
    "    def __init__ (self,nombre, apellidos, edad, posicion, anio, vacaciones, herramientas,departamento,empleados_a_cargo):\n",
    "        super().__init__(nombre,apellidos,edad,posicion,anio,vacaciones,herramientas)\n",
    "        self.departamento = departamento\n",
    "        self.empleados_a_cargo = empleados_a_cargo\n",
    "\n",
    "    def asignar_tareas(self, tarea, empleado):\n",
    "        return f\"{empleado}, el gerente: {self.nombre} te ha asignado una tarea: {tarea}\"\n",
    "    \n",
    "    def revisar_desempeno_empleado(self, empleado):\n",
    "        return f\"{self.nombre} está revisando el desempeño de {empleado}\"\n",
    "    \n",
    "    def gestionar_empleados(self,accion, empleado):\n",
    "        if accion == \"contratar\":\n",
    "            self.empleados_a_cargo.append(empleado)\n",
    "            print(f\"Enhorabuena! {empleado}, has sido contratado por {self.nombre}\")\n",
    "        elif accion == \"despedir\":\n",
    "            self.empleados_a_cargo.remove(empleado)\n",
    "            print (f\"{empleado} has sido despedido\")\n",
    "            print(self.empleados_a_cargo)\n",
    "        else:\n",
    "            print(\"Acción no válida\")\n",
    "        \n",
    "\n",
    "gerente1 = Gerente(\"Myriam\", \"Buratovich\", 60, \"gerente\", 1984, 30, [\"python\", \"sql\", \"tableu\"], \"recursos humanos\", [\"Natalia\", \"Franca\", \"Sara\"] )\n",
    "            "
   ]
  },
  {
   "cell_type": "code",
   "execution_count": 6,
   "metadata": {},
   "outputs": [
    {
     "data": {
      "text/plain": [
       "'Franca, el gerente: Myriam te ha asignado una tarea: chequear clientes'"
      ]
     },
     "execution_count": 6,
     "metadata": {},
     "output_type": "execute_result"
    }
   ],
   "source": [
    "gerente1.asignar_tareas(\"chequear clientes\", \"Franca\")"
   ]
  },
  {
   "cell_type": "code",
   "execution_count": 8,
   "metadata": {},
   "outputs": [
    {
     "data": {
      "text/plain": [
       "'Myriam está revisando el desempeño de Natalia'"
      ]
     },
     "execution_count": 8,
     "metadata": {},
     "output_type": "execute_result"
    }
   ],
   "source": [
    "gerente1.revisar_desempeno_empleado(\"Natalia\")"
   ]
  },
  {
   "cell_type": "code",
   "execution_count": 13,
   "metadata": {},
   "outputs": [
    {
     "name": "stdout",
     "output_type": "stream",
     "text": [
      "Natalia has sido despedido\n",
      "['Franca', 'Sara']\n"
     ]
    }
   ],
   "source": [
    "gerente1.gestionar_empleados(\"despedir\", \"Natalia\")"
   ]
  }
 ],
 "metadata": {
  "kernelspec": {
   "display_name": "Python 3",
   "language": "python",
   "name": "python3"
  },
  "language_info": {
   "codemirror_mode": {
    "name": "ipython",
    "version": 3
   },
   "file_extension": ".py",
   "mimetype": "text/x-python",
   "name": "python",
   "nbconvert_exporter": "python",
   "pygments_lexer": "ipython3",
   "version": "3.11.5"
  }
 },
 "nbformat": 4,
 "nbformat_minor": 2
}
